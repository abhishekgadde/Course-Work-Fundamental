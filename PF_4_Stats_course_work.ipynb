{
  "nbformat": 4,
  "nbformat_minor": 0,
  "metadata": {
    "colab": {
      "name": "PF 4 Stats course work.ipynb",
      "provenance": []
    },
    "kernelspec": {
      "name": "python3",
      "display_name": "Python 3"
    },
    "language_info": {
      "name": "python"
    }
  },
  "cells": [
    {
      "cell_type": "code",
      "source": [
        "import numpy as np\n",
        "import pandas as pd\n",
        "import matplotlib.pyplot as plt"
      ],
      "metadata": {
        "id": "MGnD52sxg9cj"
      },
      "execution_count": 2,
      "outputs": []
    },
    {
      "cell_type": "markdown",
      "source": [
        "Part 1 (2 point):\n",
        "Initialise a two-dimensional array consisting of 5 rows and 10 columns of uniformly\n",
        "distributed data points of integer values from the interval [0..9]. Consider each row of the\n",
        "two-dimensional array as an independent dataset. Display the values on the screen as a\n",
        "table. Plot the first two rows on a single diagram with different colours."
      ],
      "metadata": {
        "id": "7u9sedp7BbaF"
      }
    },
    {
      "cell_type": "code",
      "execution_count": 3,
      "metadata": {
        "id": "M0Pjyzz0Y8Ql",
        "colab": {
          "base_uri": "https://localhost:8080/"
        },
        "outputId": "fea9817d-3fe0-47ae-bc95-c8cb4c7ede68"
      },
      "outputs": [
        {
          "output_type": "stream",
          "name": "stdout",
          "text": [
            "[[5 8 5 5 0 2 0 4 2 0]\n",
            " [5 0 4 5 4 0 2 7 6 2]\n",
            " [7 4 4 3 5 6 0 6 3 6]\n",
            " [7 3 4 1 8 1 3 8 6 1]\n",
            " [6 4 2 2 1 1 8 6 7 7]]\n"
          ]
        }
      ],
      "source": [
        "array=np.empty(shape=(5,10),dtype='int')\n",
        "for i in range(0,5):\n",
        "  for j in range(0,10):\n",
        "    array[i,j]=int(np.random.randint(0,9))\n",
        "# print the values on the screen\n",
        "print(array)"
      ]
    },
    {
      "cell_type": "code",
      "source": [
        "# parameter for plot\n",
        "plt.plot(array[0,],marker='o',color='g')\n",
        "plt.plot(array[1,],marker='s',color='r')\n",
        "# visualize the plot\n",
        "plt.show()"
      ],
      "metadata": {
        "colab": {
          "base_uri": "https://localhost:8080/",
          "height": 265
        },
        "id": "qC636DrhT1sY",
        "outputId": "88ad40a4-b153-44f9-c06e-38918d875408"
      },
      "execution_count": 4,
      "outputs": [
        {
          "output_type": "display_data",
          "data": {
            "image/png": "[encoded data removed]",
            "text/plain": [
              "<Figure size 432x288 with 1 Axes>"
            ]
          },
          "metadata": {
            "needs_background": "light"
          }
        }
      ]
    },
    {
      "cell_type": "markdown",
      "source": [
        "Part 2 (2 points):\n",
        "Provide the following information about each individual row:\n",
        "Mean\n",
        "Median\n",
        "Standard deviation"
      ],
      "metadata": {
        "id": "YjQEcM15BmLX"
      }
    },
    {
      "cell_type": "code",
      "source": [
        "# Caluclating mean across rows\n",
        "row_mean = np.mean(array,axis=1)\n",
        "\n",
        "row1_mean = row_mean[0]\n",
        "print('Mean of row 1 is',row1_mean)\n",
        "\n",
        "row2_mean = row_mean[1]\n",
        "print('Mean of row 2 is',row2_mean)\n",
        "\n",
        "row3_mean = row_mean[2]\n",
        "print('Mean of row 3 is',row3_mean)\n",
        "\n",
        "row4_mean = row_mean[3]\n",
        "print('Mean of row 4 is',row4_mean)\n",
        "\n",
        "row5_mean = row_mean[4]\n",
        "print('Mean of row 5 is',row5_mean)"
      ],
      "metadata": {
        "colab": {
          "base_uri": "https://localhost:8080/"
        },
        "id": "Ayshs_OKUeuX",
        "outputId": "11548e7b-c140-42fd-8cf0-14c69e33410d"
      },
      "execution_count": 6,
      "outputs": [
        {
          "output_type": "stream",
          "name": "stdout",
          "text": [
            "Mean of row 1 is 3.1\n",
            "Mean of row 2 is 3.5\n",
            "Mean of row 3 is 4.4\n",
            "Mean of row 4 is 4.2\n",
            "Mean of row 5 is 4.4\n"
          ]
        }
      ]
    },
    {
      "cell_type": "code",
      "source": [
        "row_median = np.median(array,axis=1)\n",
        "\n",
        "row1_median = row_median[0]\n",
        "print('Median of row 1 is',row1_median)\n",
        "\n",
        "row2_median = row_median[1]\n",
        "print('Median of row 2 is',row2_median)\n",
        "\n",
        "row3_median = row_median[2]\n",
        "print('Median of row 3 is',row3_median)\n",
        "\n",
        "row4_median = row_median[3]\n",
        "print('Median of row 4 is',row4_median)\n",
        "\n",
        "row5_median = row_median[4]\n",
        "print('Median of row 5 is',row5_median)"
      ],
      "metadata": {
        "colab": {
          "base_uri": "https://localhost:8080/"
        },
        "id": "H7ejCkoJUeyA",
        "outputId": "6e4f93bd-0c86-445e-e5f8-f7334f2bf33f"
      },
      "execution_count": 7,
      "outputs": [
        {
          "output_type": "stream",
          "name": "stdout",
          "text": [
            "Mean of row 1 is 3.0\n",
            "Mean of row 2 is 4.0\n",
            "Mean of row 3 is 4.5\n",
            "Mean of row 4 is 3.5\n",
            "Mean of row 5 is 5.0\n"
          ]
        }
      ]
    },
    {
      "cell_type": "code",
      "source": [
        "row_standard_deviation = np.sd(array,axis=1)\n",
        "\n",
        "row1_standard_deviation = row_standard_deviation[0]\n",
        "print('SD of row 1 is',row1_median)\n",
        "\n",
        "row2_standard_deviation = row_standard_deviation[1]\n",
        "print('SD of row 2 is',row2_median)\n",
        "\n",
        "row3_standard_deviation = row_standard_deviation[2]\n",
        "print('SD of row 3 is',row3_median)\n",
        "\n",
        "row4_standard_deviation = row_standard_deviation[3]\n",
        "print('SD of row 4 is',row4_median)\n",
        "\n",
        "row5_standard_deviation = row_standard_deviation[4]\n",
        "print('SD of row 5 is',row5_median)"
      ],
      "metadata": {
        "id": "keo6Mox6dE5r"
      },
      "execution_count": null,
      "outputs": []
    },
    {
      "cell_type": "markdown",
      "source": [
        "3) Initialise a one-dimensional array representing a normal distribution of 1000 data points\n",
        "with mean value 17 and standard deviation 0.2."
      ],
      "metadata": {
        "id": "c7eV77EchFz4"
      }
    },
    {
      "cell_type": "code",
      "source": [
        "# Parameters of the normal distribution\n",
        "Mean = float(17)\n",
        "SD = float(0.2)\n",
        "# Size of the dataset\n",
        "Size = int(1000)\n",
        "# Generate a normal distribution\n",
        "S = np.random.normal(Mean, SD, Size)\n"
      ],
      "metadata": {
        "id": "m2hj6HndhL6e"
      },
      "execution_count": 11,
      "outputs": []
    },
    {
      "cell_type": "markdown",
      "source": [
        "4) Find the maximum and the minimum values of the dataset and calculate the range."
      ],
      "metadata": {
        "id": "7NQcaiYoiKVc"
      }
    },
    {
      "cell_type": "code",
      "source": [
        "print('Minimum value: ', round(np.min(S), 2))\n",
        "print('Maximum value: ', round(np.max(S), 2))\n",
        "print('Range: ', round(np.max(S)-np.min(S), 2))"
      ],
      "metadata": {
        "colab": {
          "base_uri": "https://localhost:8080/"
        },
        "id": "RdVf304chcHZ",
        "outputId": "303f26d2-6471-4dcb-c25f-39ae635992c1"
      },
      "execution_count": 12,
      "outputs": [
        {
          "output_type": "stream",
          "name": "stdout",
          "text": [
            "Minimum value:  16.44\n",
            "Maximum value:  17.6\n",
            "Range:  1.15\n"
          ]
        }
      ]
    },
    {
      "cell_type": "code",
      "source": [
        "\n",
        "# Calculate the probability density function\n",
        "f = (1/(SD*np.sqrt(2*np.pi)))*np.exp(-((X-Mean)**2/(2*SD**2)))\n",
        "# Plot the probability density function\n",
        "plt.plot(X, f)\n",
        "# Visualise the diagrams\n",
        "plt.show()"
      ],
      "metadata": {
        "colab": {
          "base_uri": "https://localhost:8080/",
          "height": 265
        },
        "id": "Cb55o7VZlB_M",
        "outputId": "7c264325-7e32-4833-d829-d4cd5ce0131e"
      },
      "execution_count": 14,
      "outputs": [
        {
          "output_type": "display_data",
          "data": {
            "image/png": "[encoded data removed]",
            "text/plain": [
              "<Figure size 432x288 with 1 Axes>"
            ]
          },
          "metadata": {
            "needs_background": "light"
          }
        }
      ]
    }
  ]
}