{
  "nbformat": 4,
  "nbformat_minor": 0,
  "metadata": {
    "colab": {
      "name": "Linear_Algebra_with_Python(Lab_week_5).ipynb",
      "provenance": [],
      "collapsed_sections": []
    },
    "kernelspec": {
      "name": "python3",
      "display_name": "Python 3"
    },
    "language_info": {
      "name": "python"
    }
  },
  "cells": [
    {
      "cell_type": "code",
      "source": [
        "import numpy as np\n",
        "import pandas as pd\n",
        "import matplotlib.pyplot as plt"
      ],
      "metadata": {
        "id": "MGnD52sxg9cj"
      },
      "execution_count": 1,
      "outputs": []
    },
    {
      "cell_type": "markdown",
      "source": [
        "Part 1 (2 point):\n",
        "Initialise a two-dimensional array consisting of 5 rows and 10 columns of uniformly\n",
        "distributed data points of integer values from the interval [0..9]. Consider each row of the\n",
        "two-dimensional array as an independent dataset. Display the values on the screen as a\n",
        "table. Plot the first two rows on a single diagram with different colours."
      ],
      "metadata": {
        "id": "7u9sedp7BbaF"
      }
    },
    {
      "cell_type": "code",
      "execution_count": 2,
      "metadata": {
        "id": "M0Pjyzz0Y8Ql",
        "colab": {
          "base_uri": "https://localhost:8080/"
        },
        "outputId": "ab842bf1-aa6f-48ca-aa53-0c8a75bf4b1c"
      },
      "outputs": [
        {
          "output_type": "stream",
          "name": "stdout",
          "text": [
            "[[7 7 0 0 1 3 6 6 6 2]\n",
            " [1 7 1 5 0 1 0 8 2 1]\n",
            " [7 5 3 2 3 1 6 5 4 8]\n",
            " [1 4 4 1 6 3 7 2 2 6]\n",
            " [4 5 5 2 8 2 1 3 7 4]]\n"
          ]
        }
      ],
      "source": [
        "array=np.empty(shape=(5,10),dtype='int')\n",
        "for i in range(0,5):\n",
        "  for j in range(0,10):\n",
        "    array[i,j]=int(np.random.randint(0,9))\n",
        "# print the values on the screen\n",
        "print(array)"
      ]
    },
    {
      "cell_type": "code",
      "source": [
        "# parameter for plot\n",
        "plt.plot(array[0,],marker='o',color='g')\n",
        "plt.plot(array[1,],marker='s',color='r')\n",
        "# visualize the plot\n",
        "plt.show()"
      ],
      "metadata": {
        "colab": {
          "base_uri": "https://localhost:8080/",
          "height": 265
        },
        "id": "qC636DrhT1sY",
        "outputId": "67796e5a-b496-4f34-af86-4dbaad194c12"
      },
      "execution_count": 3,
      "outputs": [
        {
          "output_type": "display_data",
          "data": {
            "image/png": "[encoded data removed]",
            "text/plain": [
              "<Figure size 432x288 with 1 Axes>"
            ]
          },
          "metadata": {
            "needs_background": "light"
          }
        }
      ]
    },
    {
      "cell_type": "markdown",
      "source": [
        "Part 2 (2 points):\n",
        "Provide the following information about each individual row:\n",
        "Mean\n",
        "Median\n",
        "Standard deviation"
      ],
      "metadata": {
        "id": "YjQEcM15BmLX"
      }
    },
    {
      "cell_type": "code",
      "source": [
        "# Caluclating mean across rows\n",
        "row_mean = np.mean(array,axis=1)\n",
        "\n",
        "row1_mean = row_mean[0]\n",
        "print('Mean of row 1 is',row1_mean)\n",
        "\n",
        "row2_mean = row_mean[1]\n",
        "print('Mean of row 2 is',row2_mean)\n",
        "\n",
        "row3_mean = row_mean[2]\n",
        "print('Mean of row 3 is',row3_mean)\n",
        "\n",
        "row4_mean = row_mean[3]\n",
        "print('Mean of row 4 is',row4_mean)\n",
        "\n",
        "row5_mean = row_mean[4]\n",
        "print('Mean of row 5 is',row5_mean)"
      ],
      "metadata": {
        "colab": {
          "base_uri": "https://localhost:8080/"
        },
        "id": "Ayshs_OKUeuX",
        "outputId": "80ca7e1b-f77f-44c6-bd8d-71df1779a0c9"
      },
      "execution_count": 4,
      "outputs": [
        {
          "output_type": "stream",
          "name": "stdout",
          "text": [
            "Mean of row 1 is 3.8\n",
            "Mean of row 2 is 2.6\n",
            "Mean of row 3 is 4.4\n",
            "Mean of row 4 is 3.6\n",
            "Mean of row 5 is 4.1\n"
          ]
        }
      ]
    },
    {
      "cell_type": "code",
      "source": [
        "row_median = np.median(array,axis=1)\n",
        "\n",
        "row1_median = row_median[0]\n",
        "print('Median of row 1 is',row1_median)\n",
        "\n",
        "row2_median = row_median[1]\n",
        "print('Median of row 2 is',row2_median)\n",
        "\n",
        "row3_median = row_median[2]\n",
        "print('Median of row 3 is',row3_median)\n",
        "\n",
        "row4_median = row_median[3]\n",
        "print('Median of row 4 is',row4_median)\n",
        "\n",
        "row5_median = row_median[4]\n",
        "print('Median of row 5 is',row5_median)"
      ],
      "metadata": {
        "colab": {
          "base_uri": "https://localhost:8080/"
        },
        "id": "H7ejCkoJUeyA",
        "outputId": "021a961a-a7b3-476d-bdab-ec359ce849f1"
      },
      "execution_count": 5,
      "outputs": [
        {
          "output_type": "stream",
          "name": "stdout",
          "text": [
            "Median of row 1 is 4.5\n",
            "Median of row 2 is 1.0\n",
            "Median of row 3 is 4.5\n",
            "Median of row 4 is 3.5\n",
            "Median of row 5 is 4.0\n"
          ]
        }
      ]
    },
    {
      "cell_type": "code",
      "source": [
        "row_standard_deviation = np.std(array,axis=1)\n",
        "\n",
        "row1_standard_deviation = row_standard_deviation[0]\n",
        "print('SD of row 1 is',row1_median)\n",
        "\n",
        "row2_standard_deviation = row_standard_deviation[1]\n",
        "print('SD of row 2 is',row2_median)\n",
        "\n",
        "row3_standard_deviation = row_standard_deviation[2]\n",
        "print('SD of row 3 is',row3_median)\n",
        "\n",
        "row4_standard_deviation = row_standard_deviation[3]\n",
        "print('SD of row 4 is',row4_median)\n",
        "\n",
        "row5_standard_deviation = row_standard_deviation[4]\n",
        "print('SD of row 5 is',row5_median)"
      ],
      "metadata": {
        "id": "keo6Mox6dE5r",
        "colab": {
          "base_uri": "https://localhost:8080/"
        },
        "outputId": "88856256-0382-4983-f435-1889ea3edfe2"
      },
      "execution_count": 7,
      "outputs": [
        {
          "output_type": "stream",
          "name": "stdout",
          "text": [
            "SD of row 1 is 4.5\n",
            "SD of row 2 is 1.0\n",
            "SD of row 3 is 4.5\n",
            "SD of row 4 is 3.5\n",
            "SD of row 5 is 4.0\n"
          ]
        }
      ]
    },
    {
      "cell_type": "markdown",
      "source": [
        "3) Initialise a one-dimensional array representing a normal distribution of 1000 data points\n",
        "with mean value 17 and standard deviation 0.2."
      ],
      "metadata": {
        "id": "c7eV77EchFz4"
      }
    },
    {
      "cell_type": "code",
      "source": [
        "# Parameters of the normal distribution\n",
        "Mean = float(17)\n",
        "SD = float(0.2)\n",
        "# Size of the dataset\n",
        "Size = int(1000)\n",
        "# Generate a normal distribution\n",
        "S = np.random.normal(Mean, SD, Size)\n"
      ],
      "metadata": {
        "id": "m2hj6HndhL6e"
      },
      "execution_count": 8,
      "outputs": []
    },
    {
      "cell_type": "markdown",
      "source": [
        "4) Find the maximum and the minimum values of the dataset and calculate the range."
      ],
      "metadata": {
        "id": "7NQcaiYoiKVc"
      }
    },
    {
      "cell_type": "code",
      "source": [
        "print('Minimum value: ', round(np.min(S), 2))\n",
        "print('Maximum value: ', round(np.max(S), 2))\n",
        "print('Range: ', round(np.max(S)-np.min(S), 2))"
      ],
      "metadata": {
        "colab": {
          "base_uri": "https://localhost:8080/"
        },
        "id": "RdVf304chcHZ",
        "outputId": "9acb782d-c633-4f09-c0c1-3ae6bedda2c8"
      },
      "execution_count": 9,
      "outputs": [
        {
          "output_type": "stream",
          "name": "stdout",
          "text": [
            "Minimum value:  16.47\n",
            "Maximum value:  17.67\n",
            "Range:  1.2\n"
          ]
        }
      ]
    },
    {
      "cell_type": "code",
      "source": [
        "\n",
        "# Calculate the probability density function\n",
        "f = (1/(SD*np.sqrt(2*np.pi)))*np.exp(-((X-Mean)**2/(2*SD**2)))\n",
        "# Plot the probability density function\n",
        "plt.plot(X, f)\n",
        "# Visualise the diagrams\n",
        "plt.show()"
      ],
      "metadata": {
        "colab": {
          "base_uri": "https://localhost:8080/",
          "height": 265
        },
        "id": "Cb55o7VZlB_M",
        "outputId": "508cd129-fef9-41f9-f0d8-9498229deca1"
      },
      "execution_count": 21,
      "outputs": [
        {
          "output_type": "display_data",
          "data": {
            "image/png": "[encoded data removed]",
            "text/plain": [
              "<Figure size 432x288 with 1 Axes>"
            ]
          },
          "metadata": {
            "needs_background": "light"
          }
        }
      ]
    }
  ]
}